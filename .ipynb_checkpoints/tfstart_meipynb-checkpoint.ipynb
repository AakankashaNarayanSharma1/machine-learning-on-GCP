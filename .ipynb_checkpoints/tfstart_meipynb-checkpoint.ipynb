{
 "cells": [
  {
   "cell_type": "markdown",
   "metadata": {},
   "source": [
    "<h2> Solution to Halley's method for finding root's of a fourth degree polynomial </h2>\n",
    "<img src=\"https://wikimedia.org/api/rest_v1/media/math/render/svg/142614c0378a1d61cb623c1352bf85b6b7bc4397\" />"
   ]
  },
  {
   "cell_type": "code",
   "execution_count": 1,
   "metadata": {},
   "outputs": [
    {
     "name": "stdout",
     "output_type": "stream",
     "text": [
      "1.4.0\n"
     ]
    }
   ],
   "source": [
    "import tensorflow as tf\n",
    "print(tf.__version__)"
   ]
  },
  {
   "cell_type": "code",
   "execution_count": 2,
   "metadata": {},
   "outputs": [],
   "source": [
    "# def halley_s_method(a, x0):\n",
    "f = lambda a, x0 : a[0] + a[1]*x0 + a[2] * (x0**2) + a[3] * (x0**3) + a[4] * (x0**4)"
   ]
  },
  {
   "cell_type": "code",
   "execution_count": 3,
   "metadata": {},
   "outputs": [],
   "source": [
    "f1 = lambda a, x0 : a[1] + 2 * a[2] * x0 + 3 * a[3] * (x0**2) + 4 * a[4] * (x0**3)"
   ]
  },
  {
   "cell_type": "code",
   "execution_count": 4,
   "metadata": {},
   "outputs": [],
   "source": [
    "f2 = lambda a, x0 : 2 * a[2] + 6 * a[3] * x0 + 12 * a[4] * (x0**2)"
   ]
  },
  {
   "cell_type": "code",
   "execution_count": 31,
   "metadata": {},
   "outputs": [],
   "source": [
    "def halley_s_method(a):\n",
    "    x0=a[5]\n",
    "    x1 = x0 - ((2*f(a,x0)*f1(a,x0))/(2*f1(a,x0)*f1(a,x0) - f(a,x0)*f2(a,x0)))\n",
    "    cond = lambda x1, x0 : ((x1 - x0) < 0.00000000001)   ## change for better accuracy, but 0.05 is giving the same results as 0.000001\n",
    "    body = lambda x1, x0 : (x1 - ((2*f(a,x0)*f1(a,x0))/(2*f1(a,x0)*f1(a,x0) - f(a,x0)*f2(a,x0))), x1)\n",
    "    final=tf.while_loop(cond, body, [x1,x0])\n",
    "    return x1"
   ]
  },
  {
   "cell_type": "code",
   "execution_count": 32,
   "metadata": {},
   "outputs": [],
   "source": [
    "a = tf.placeholder(shape=(6,), dtype=tf.float32)"
   ]
  },
  {
   "cell_type": "code",
   "execution_count": 33,
   "metadata": {},
   "outputs": [
    {
     "name": "stdout",
     "output_type": "stream",
     "text": [
      "4.68285\n"
     ]
    }
   ],
   "source": [
    "with tf.Session() as sess:\n",
    "    res=halley_s_method(a)\n",
    "    print(sess.run(res, feed_dict={a:[-4.,1.,1.,1.,1.,8.]}))          ## correct answer = 1"
   ]
  }
 ],
 "metadata": {
  "kernelspec": {
   "display_name": "Python 3",
   "language": "python",
   "name": "python3"
  },
  "language_info": {
   "codemirror_mode": {
    "name": "ipython",
    "version": 3
   },
   "file_extension": ".py",
   "mimetype": "text/x-python",
   "name": "python",
   "nbconvert_exporter": "python",
   "pygments_lexer": "ipython3",
   "version": "3.5.2"
  }
 },
 "nbformat": 4,
 "nbformat_minor": 2
}
