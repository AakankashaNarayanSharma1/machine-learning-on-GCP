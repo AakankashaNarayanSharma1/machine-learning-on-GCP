{
 "cells": [
  {
   "cell_type": "code",
   "execution_count": 2,
   "metadata": {
    "collapsed": true
   },
   "outputs": [],
   "source": [
    "import google.datalab.bigquery as bq"
   ]
  },
  {
   "cell_type": "code",
   "execution_count": 16,
   "metadata": {
    "collapsed": true
   },
   "outputs": [],
   "source": [
    "compute_alpha=\"\"\"\n",
    "#standardSQL\n",
    "SELECT\n",
    "  SAFE_DIVIDE(SUM(arrival_delay*departure_delay), SUM(departure_delay*departure_delay)) as alpha\n",
    "FROM\n",
    "(\n",
    "SELECT\n",
    "  RAND() as my_splitter,\n",
    "  arrival_delay,\n",
    "  departure_delay\n",
    "FROM\n",
    "  `bigquery-samples.airline_ontime_data.flights`\n",
    "WHERE\n",
    "  departure_airport='DEN' AND arrival_airport='LAX'\n",
    ")\n",
    "\n",
    "WHERE my_splitter < 0.8\n",
    "\"\"\""
   ]
  },
  {
   "cell_type": "code",
   "execution_count": 18,
   "metadata": {},
   "outputs": [
    {
     "name": "stdout",
     "output_type": "stream",
     "text": [
      "0.9760437790121071\n"
     ]
    }
   ],
   "source": [
    "results = bq.Query(compute_alpha).execute().result().to_dataframe()\n",
    "# print results\n",
    "alpha=results['alpha'][0]\n",
    "print alpha"
   ]
  },
  {
   "cell_type": "code",
   "execution_count": 28,
   "metadata": {},
   "outputs": [
    {
     "data": {
      "text/html": [
       "\n",
       "    <div class=\"bqtv\" id=\"6_153225321361\"><table><tr><th>dataset</th><th>arrival_delay</th><th>departure_delay</th></tr><tr><td>EVAL</td><td>1168.0</td><td>1170.0</td></tr><tr><td>TRAIN</td><td>1132.0</td><td>1144.0</td></tr><tr><td>EVAL</td><td>1102.0</td><td>1109.0</td></tr><tr><td>TRAIN</td><td>934.0</td><td>936.0</td></tr><tr><td>TRAIN</td><td>933.0</td><td>932.0</td></tr><tr><td>TRAIN</td><td>899.0</td><td>908.0</td></tr><tr><td>TRAIN</td><td>778.0</td><td>789.0</td></tr><tr><td>EVAL</td><td>792.0</td><td>788.0</td></tr><tr><td>EVAL</td><td>743.0</td><td>777.0</td></tr><tr><td>TRAIN</td><td>765.0</td><td>770.0</td></tr><tr><td>TRAIN</td><td>737.0</td><td>739.0</td></tr><tr><td>TRAIN</td><td>733.0</td><td>737.0</td></tr><tr><td>EVAL</td><td>713.0</td><td>715.0</td></tr><tr><td>EVAL</td><td>692.0</td><td>707.0</td></tr><tr><td>TRAIN</td><td>684.0</td><td>675.0</td></tr><tr><td>EVAL</td><td>562.0</td><td>573.0</td></tr><tr><td>TRAIN</td><td>499.0</td><td>501.0</td></tr><tr><td>TRAIN</td><td>467.0</td><td>465.0</td></tr><tr><td>TRAIN</td><td>449.0</td><td>446.0</td></tr><tr><td>EVAL</td><td>437.0</td><td>443.0</td></tr><tr><td>TRAIN</td><td>427.0</td><td>432.0</td></tr><tr><td>TRAIN</td><td>402.0</td><td>421.0</td></tr><tr><td>TRAIN</td><td>449.0</td><td>398.0</td></tr><tr><td>TRAIN</td><td>397.0</td><td>394.0</td></tr><tr><td>TRAIN</td><td>378.0</td><td>382.0</td></tr></table></div>\n",
       "    <br />(rows: 79689, time: 2.0s,     1GB processed, job: job_PifrYdV0ugOtkrRykoF2MckQQ0v0)<br />\n",
       "    <script src=\"/static/components/requirejs/require.js\"></script>\n",
       "    <script>\n",
       "      require.config({\n",
       "        paths: {\n",
       "          base: '/static/base',\n",
       "          d3: '//cdnjs.cloudflare.com/ajax/libs/d3/3.4.13/d3',\n",
       "          plotly: 'https://cdn.plot.ly/plotly-1.5.1.min.js?noext',\n",
       "          jquery: '//ajax.googleapis.com/ajax/libs/jquery/2.0.0/jquery.min'\n",
       "        },\n",
       "        map: {\n",
       "          '*': {\n",
       "            datalab: 'nbextensions/gcpdatalab'\n",
       "          }\n",
       "        },\n",
       "        shim: {\n",
       "          plotly: {\n",
       "            deps: ['d3', 'jquery'],\n",
       "            exports: 'plotly'\n",
       "          }\n",
       "        }\n",
       "      });\n",
       "\n",
       "      require(['datalab/charting', 'datalab/element!6_153225321361', 'base/js/events',\n",
       "          'datalab/style!/nbextensions/gcpdatalab/charting.css'],\n",
       "        function(charts, dom, events) {\n",
       "          charts.render('gcharts', dom, events, 'paged_table', [], {\"rows\": [{\"c\": [{\"v\": \"EVAL\"}, {\"v\": 1168.0}, {\"v\": 1170.0}]}, {\"c\": [{\"v\": \"TRAIN\"}, {\"v\": 1132.0}, {\"v\": 1144.0}]}, {\"c\": [{\"v\": \"EVAL\"}, {\"v\": 1102.0}, {\"v\": 1109.0}]}, {\"c\": [{\"v\": \"TRAIN\"}, {\"v\": 934.0}, {\"v\": 936.0}]}, {\"c\": [{\"v\": \"TRAIN\"}, {\"v\": 933.0}, {\"v\": 932.0}]}, {\"c\": [{\"v\": \"TRAIN\"}, {\"v\": 899.0}, {\"v\": 908.0}]}, {\"c\": [{\"v\": \"TRAIN\"}, {\"v\": 778.0}, {\"v\": 789.0}]}, {\"c\": [{\"v\": \"EVAL\"}, {\"v\": 792.0}, {\"v\": 788.0}]}, {\"c\": [{\"v\": \"EVAL\"}, {\"v\": 743.0}, {\"v\": 777.0}]}, {\"c\": [{\"v\": \"TRAIN\"}, {\"v\": 765.0}, {\"v\": 770.0}]}, {\"c\": [{\"v\": \"TRAIN\"}, {\"v\": 737.0}, {\"v\": 739.0}]}, {\"c\": [{\"v\": \"TRAIN\"}, {\"v\": 733.0}, {\"v\": 737.0}]}, {\"c\": [{\"v\": \"EVAL\"}, {\"v\": 713.0}, {\"v\": 715.0}]}, {\"c\": [{\"v\": \"EVAL\"}, {\"v\": 692.0}, {\"v\": 707.0}]}, {\"c\": [{\"v\": \"TRAIN\"}, {\"v\": 684.0}, {\"v\": 675.0}]}, {\"c\": [{\"v\": \"EVAL\"}, {\"v\": 562.0}, {\"v\": 573.0}]}, {\"c\": [{\"v\": \"TRAIN\"}, {\"v\": 499.0}, {\"v\": 501.0}]}, {\"c\": [{\"v\": \"TRAIN\"}, {\"v\": 467.0}, {\"v\": 465.0}]}, {\"c\": [{\"v\": \"TRAIN\"}, {\"v\": 449.0}, {\"v\": 446.0}]}, {\"c\": [{\"v\": \"EVAL\"}, {\"v\": 437.0}, {\"v\": 443.0}]}, {\"c\": [{\"v\": \"TRAIN\"}, {\"v\": 427.0}, {\"v\": 432.0}]}, {\"c\": [{\"v\": \"TRAIN\"}, {\"v\": 402.0}, {\"v\": 421.0}]}, {\"c\": [{\"v\": \"TRAIN\"}, {\"v\": 449.0}, {\"v\": 398.0}]}, {\"c\": [{\"v\": \"TRAIN\"}, {\"v\": 397.0}, {\"v\": 394.0}]}, {\"c\": [{\"v\": \"TRAIN\"}, {\"v\": 378.0}, {\"v\": 382.0}]}], \"cols\": [{\"type\": \"string\", \"id\": \"dataset\", \"label\": \"dataset\"}, {\"type\": \"number\", \"id\": \"arrival_delay\", \"label\": \"arrival_delay\"}, {\"type\": \"number\", \"id\": \"departure_delay\", \"label\": \"departure_delay\"}]},\n",
       "            {\n",
       "              pageSize: 25,\n",
       "              cssClassNames:  {\n",
       "                tableRow: 'gchart-table-row',\n",
       "                headerRow: 'gchart-table-headerrow',\n",
       "                oddTableRow: 'gchart-table-oddrow',\n",
       "                selectedTableRow: 'gchart-table-selectedrow',\n",
       "                hoverTableRow: 'gchart-table-hoverrow',\n",
       "                tableCell: 'gchart-table-cell',\n",
       "                headerCell: 'gchart-table-headercell',\n",
       "                rowNumberCell: 'gchart-table-rownumcell'\n",
       "              }\n",
       "            },\n",
       "            {source_index: 5, fields: 'dataset,arrival_delay,departure_delay'},\n",
       "            0,\n",
       "            79689);\n",
       "        }\n",
       "      );\n",
       "    </script>\n",
       "  "
      ],
      "text/plain": [
       "QueryResultsTable job_PifrYdV0ugOtkrRykoF2MckQQ0v0"
      ]
     },
     "execution_count": 28,
     "metadata": {},
     "output_type": "execute_result"
    }
   ],
   "source": [
    "test=\"\"\"\n",
    "SELECT\n",
    "  IF( RAND() < 0.8 , 'TRAIN', 'EVAL') as dataset,\n",
    "  arrival_delay,\n",
    "  departure_delay\n",
    "FROM\n",
    "  `bigquery-samples.airline_ontime_data.flights`\n",
    "WHERE departure_airport='DEN' \n",
    "    AND arrival_airport='LAX'\n",
    "\"\"\"\n",
    "# bq.Query(test).execute().result()"
   ]
  },
  {
   "cell_type": "code",
   "execution_count": 30,
   "metadata": {},
   "outputs": [
    {
     "data": {
      "text/html": [
       "\n",
       "    <div class=\"bqtv\" id=\"8_153225328044\"><table><tr><th>dataset</th><th>rmse</th></tr><tr><td>EVAL</td><td>13.0372652004</td></tr><tr><td>TRAIN</td><td>13.0953046713</td></tr></table></div>\n",
       "    <br />(rows: 2, time: 2.1s,     1GB processed, job: job_bo0SqzkHwzNF28re27whZj1mXjzA)<br />\n",
       "    <script src=\"/static/components/requirejs/require.js\"></script>\n",
       "    <script>\n",
       "      require.config({\n",
       "        paths: {\n",
       "          base: '/static/base',\n",
       "          d3: '//cdnjs.cloudflare.com/ajax/libs/d3/3.4.13/d3',\n",
       "          plotly: 'https://cdn.plot.ly/plotly-1.5.1.min.js?noext',\n",
       "          jquery: '//ajax.googleapis.com/ajax/libs/jquery/2.0.0/jquery.min'\n",
       "        },\n",
       "        map: {\n",
       "          '*': {\n",
       "            datalab: 'nbextensions/gcpdatalab'\n",
       "          }\n",
       "        },\n",
       "        shim: {\n",
       "          plotly: {\n",
       "            deps: ['d3', 'jquery'],\n",
       "            exports: 'plotly'\n",
       "          }\n",
       "        }\n",
       "      });\n",
       "\n",
       "      require(['datalab/charting', 'datalab/element!8_153225328044', 'base/js/events',\n",
       "          'datalab/style!/nbextensions/gcpdatalab/charting.css'],\n",
       "        function(charts, dom, events) {\n",
       "          charts.render('gcharts', dom, events, 'table', [], {\"rows\": [{\"c\": [{\"v\": \"EVAL\"}, {\"v\": 13.037265200400423}]}, {\"c\": [{\"v\": \"TRAIN\"}, {\"v\": 13.095304671329595}]}], \"cols\": [{\"type\": \"string\", \"id\": \"dataset\", \"label\": \"dataset\"}, {\"type\": \"number\", \"id\": \"rmse\", \"label\": \"rmse\"}]},\n",
       "            {\n",
       "              pageSize: 25,\n",
       "              cssClassNames:  {\n",
       "                tableRow: 'gchart-table-row',\n",
       "                headerRow: 'gchart-table-headerrow',\n",
       "                oddTableRow: 'gchart-table-oddrow',\n",
       "                selectedTableRow: 'gchart-table-selectedrow',\n",
       "                hoverTableRow: 'gchart-table-hoverrow',\n",
       "                tableCell: 'gchart-table-cell',\n",
       "                headerCell: 'gchart-table-headercell',\n",
       "                rowNumberCell: 'gchart-table-rownumcell'\n",
       "              }\n",
       "            },\n",
       "            {source_index: 7, fields: 'dataset,rmse'},\n",
       "            0,\n",
       "            2);\n",
       "        }\n",
       "      );\n",
       "    </script>\n",
       "  "
      ],
      "text/plain": [
       "QueryResultsTable job_bo0SqzkHwzNF28re27whZj1mXjzA"
      ]
     },
     "execution_count": 30,
     "metadata": {},
     "output_type": "execute_result"
    }
   ],
   "source": [
    "## Computing RMSE. Running this code block generates different outputs everytime (as a virtue of RAND()), try it\n",
    "compute_rmse=\"\"\"\n",
    "SELECT\n",
    "  dataset,\n",
    "  SQRT(AVG((arrival_delay - ALPHA*departure_delay)*(arrival_delay - ALPHA*departure_delay))) as rmse\n",
    "FROM\n",
    "(\n",
    "SELECT\n",
    "  IF( RAND() < 0.8 , 'TRAIN', 'EVAL') as dataset,\n",
    "  arrival_delay,\n",
    "  departure_delay\n",
    "FROM\n",
    "  `bigquery-samples.airline_ontime_data.flights`\n",
    "WHERE departure_airport='DEN' AND arrival_airport='LAX'\n",
    ")\n",
    "GROUP BY\n",
    "  dataset\n",
    "\"\"\"\n",
    "bq.Query(compute_rmse.replace('ALPHA', str(alpha))).execute().result()"
   ]
  },
  {
   "cell_type": "markdown",
   "metadata": {},
   "source": [
    "Getting the same data set for evaluation and training : add both the queries together so that the datasets don't vary.\n",
    "However, this is not going to choose the same pair of training and evaluation dataset the next time, so the results will change"
   ]
  },
  {
   "cell_type": "code",
   "execution_count": 33,
   "metadata": {},
   "outputs": [
    {
     "data": {
      "text/html": [
       "\n",
       "    <div class=\"bqtv\" id=\"9_153225478905\"><table><tr><th>ALPHA</th><th>dataset</th><th>rmse</th></tr><tr><td>0.975254834947</td><td>train</td><td>13.0487117183</td></tr><tr><td>0.975254834947</td><td>eval</td><td>13.2215595038</td></tr></table></div>\n",
       "    <br />(rows: 2, time: 2.4s,     1GB processed, job: job_W_hnP_vgbprEYhNzhYF7HivmAku0)<br />\n",
       "    <script src=\"/static/components/requirejs/require.js\"></script>\n",
       "    <script>\n",
       "      require.config({\n",
       "        paths: {\n",
       "          base: '/static/base',\n",
       "          d3: '//cdnjs.cloudflare.com/ajax/libs/d3/3.4.13/d3',\n",
       "          plotly: 'https://cdn.plot.ly/plotly-1.5.1.min.js?noext',\n",
       "          jquery: '//ajax.googleapis.com/ajax/libs/jquery/2.0.0/jquery.min'\n",
       "        },\n",
       "        map: {\n",
       "          '*': {\n",
       "            datalab: 'nbextensions/gcpdatalab'\n",
       "          }\n",
       "        },\n",
       "        shim: {\n",
       "          plotly: {\n",
       "            deps: ['d3', 'jquery'],\n",
       "            exports: 'plotly'\n",
       "          }\n",
       "        }\n",
       "      });\n",
       "\n",
       "      require(['datalab/charting', 'datalab/element!9_153225478905', 'base/js/events',\n",
       "          'datalab/style!/nbextensions/gcpdatalab/charting.css'],\n",
       "        function(charts, dom, events) {\n",
       "          charts.render('gcharts', dom, events, 'table', [], {\"rows\": [{\"c\": [{\"v\": 0.9752548349474592}, {\"v\": \"train\"}, {\"v\": 13.048711718282428}]}, {\"c\": [{\"v\": 0.9752548349474592}, {\"v\": \"eval\"}, {\"v\": 13.221559503785961}]}], \"cols\": [{\"type\": \"number\", \"id\": \"ALPHA\", \"label\": \"ALPHA\"}, {\"type\": \"string\", \"id\": \"dataset\", \"label\": \"dataset\"}, {\"type\": \"number\", \"id\": \"rmse\", \"label\": \"rmse\"}]},\n",
       "            {\n",
       "              pageSize: 25,\n",
       "              cssClassNames:  {\n",
       "                tableRow: 'gchart-table-row',\n",
       "                headerRow: 'gchart-table-headerrow',\n",
       "                oddTableRow: 'gchart-table-oddrow',\n",
       "                selectedTableRow: 'gchart-table-selectedrow',\n",
       "                hoverTableRow: 'gchart-table-hoverrow',\n",
       "                tableCell: 'gchart-table-cell',\n",
       "                headerCell: 'gchart-table-headercell',\n",
       "                rowNumberCell: 'gchart-table-rownumcell'\n",
       "              }\n",
       "            },\n",
       "            {source_index: 8, fields: 'ALPHA,dataset,rmse'},\n",
       "            0,\n",
       "            2);\n",
       "        }\n",
       "      );\n",
       "    </script>\n",
       "  "
      ],
      "text/plain": [
       "QueryResultsTable job_W_hnP_vgbprEYhNzhYF7HivmAku0"
      ]
     },
     "execution_count": 33,
     "metadata": {},
     "output_type": "execute_result"
    }
   ],
   "source": [
    "train_and_eval_together=\"\"\"\n",
    "WITH\n",
    "  alldata as (\n",
    "  SELECT\n",
    "    IF( RAND () < 0.8, 'train', 'eval') as dataset,\n",
    "    arrival_delay,\n",
    "    departure_delay\n",
    "  FROM\n",
    "    `bigquery-samples.airline_ontime_data.flights`\n",
    "  WHERE\n",
    "    arrival_airport='LAX' AND departure_airport='DEN' \n",
    "  ),\n",
    "  training as (\n",
    "  SELECT\n",
    "  SAFE_DIVIDE(SUM(arrival_delay*departure_delay), SUM(departure_delay*departure_delay)) AS alpha\n",
    "  FROM\n",
    "    alldata\n",
    "  WHERE\n",
    "    dataset = 'train'\n",
    "  )\n",
    "\n",
    "SELECT\n",
    "  MAX(alpha) as ALPHA,\n",
    "  dataset,\n",
    "  SQRT(AVG((arrival_delay - ALPHA*departure_delay)*(arrival_delay - ALPHA*departure_delay))) AS rmse\n",
    "  FROM \n",
    "    alldata,\n",
    "    training\n",
    "  GROUP BY\n",
    "    dataset\n",
    "  \"\"\"\n",
    "bq.Query(train_and_eval_together).execute().result()"
   ]
  },
  {
   "cell_type": "code",
   "execution_count": 35,
   "metadata": {},
   "outputs": [
    {
     "name": "stdout",
     "output_type": "stream",
     "text": [
      "0.9758039143620403\n"
     ]
    }
   ],
   "source": [
    "compute_alpha=\"\"\"\n",
    "#standarSQL\n",
    "SELECT\n",
    "  SAFE_DIVIDE(SUM(arrival_delay*departure_delay), SUM(departure_delay*departure_delay)) as alpha\n",
    "FROM\n",
    "  `bigquery-samples.airline_ontime_data.flights`\n",
    "WHERE\n",
    "  departure_airport='DEN'\n",
    "  AND arrival_airport='LAX'\n",
    "  AND MOD(ABS(FARM_FINGERPRINT(date)), 10) < 8\n",
    "\"\"\"\n",
    "results = bq.Query(compute_alpha).execute().result().to_dataframe()\n",
    "alpha = results['alpha'][0]\n",
    "print alpha           ## this will remain constant, unless you don't change your algoritm"
   ]
  },
  {
   "cell_type": "code",
   "execution_count": 41,
   "metadata": {},
   "outputs": [
    {
     "data": {
      "text/html": [
       "\n",
       "    <div class=\"bqtv\" id=\"12_153225548176\"><table><tr><th>dataset</th><th>rmse</th></tr><tr><td>train</td><td>13.1607120015</td></tr><tr><td>eval</td><td>12.7646852443</td></tr></table></div>\n",
       "    <br />(rows: 2, time: 0.1s, cached, job: job_MqSFoqtyBIA1ed-v70yEdrAd_-c-)<br />\n",
       "    <script src=\"/static/components/requirejs/require.js\"></script>\n",
       "    <script>\n",
       "      require.config({\n",
       "        paths: {\n",
       "          base: '/static/base',\n",
       "          d3: '//cdnjs.cloudflare.com/ajax/libs/d3/3.4.13/d3',\n",
       "          plotly: 'https://cdn.plot.ly/plotly-1.5.1.min.js?noext',\n",
       "          jquery: '//ajax.googleapis.com/ajax/libs/jquery/2.0.0/jquery.min'\n",
       "        },\n",
       "        map: {\n",
       "          '*': {\n",
       "            datalab: 'nbextensions/gcpdatalab'\n",
       "          }\n",
       "        },\n",
       "        shim: {\n",
       "          plotly: {\n",
       "            deps: ['d3', 'jquery'],\n",
       "            exports: 'plotly'\n",
       "          }\n",
       "        }\n",
       "      });\n",
       "\n",
       "      require(['datalab/charting', 'datalab/element!12_153225548176', 'base/js/events',\n",
       "          'datalab/style!/nbextensions/gcpdatalab/charting.css'],\n",
       "        function(charts, dom, events) {\n",
       "          charts.render('gcharts', dom, events, 'table', [], {\"rows\": [{\"c\": [{\"v\": \"train\"}, {\"v\": 13.16071200152452}]}, {\"c\": [{\"v\": \"eval\"}, {\"v\": 12.764685244255753}]}], \"cols\": [{\"type\": \"string\", \"id\": \"dataset\", \"label\": \"dataset\"}, {\"type\": \"number\", \"id\": \"rmse\", \"label\": \"rmse\"}]},\n",
       "            {\n",
       "              pageSize: 25,\n",
       "              cssClassNames:  {\n",
       "                tableRow: 'gchart-table-row',\n",
       "                headerRow: 'gchart-table-headerrow',\n",
       "                oddTableRow: 'gchart-table-oddrow',\n",
       "                selectedTableRow: 'gchart-table-selectedrow',\n",
       "                hoverTableRow: 'gchart-table-hoverrow',\n",
       "                tableCell: 'gchart-table-cell',\n",
       "                headerCell: 'gchart-table-headercell',\n",
       "                rowNumberCell: 'gchart-table-rownumcell'\n",
       "              }\n",
       "            },\n",
       "            {source_index: 9, fields: 'dataset,rmse'},\n",
       "            0,\n",
       "            2);\n",
       "        }\n",
       "      );\n",
       "    </script>\n",
       "  "
      ],
      "text/plain": [
       "QueryResultsTable job_MqSFoqtyBIA1ed-v70yEdrAd_-c-"
      ]
     },
     "execution_count": 41,
     "metadata": {},
     "output_type": "execute_result"
    }
   ],
   "source": [
    "## rmse. This will remain constant, until you don't change your algorithm\n",
    "compute_rmse=\"\"\"\n",
    "SELECT\n",
    "  IF(MOD(ABS(FARM_FINGERPRINT(date)),10)<8, 'train' , 'eval') AS dataset,\n",
    "  SQRT(AVG((arrival_delay - ALPHA*departure_delay)*(arrival_delay - ALPHA*departure_delay))) AS rmse\n",
    "FROM \n",
    "  `bigquery-samples.airline_ontime_data.flights`\n",
    "WHERE\n",
    "  departure_airport='DEN'\n",
    "  AND arrival_airport='LAX'\n",
    "GROUP BY\n",
    "  dataset\n",
    "\"\"\"\n",
    "bq.Query(compute_rmse.replace('ALPHA', str(alpha))).execute().result()"
   ]
  }
 ],
 "metadata": {
  "kernelspec": {
   "display_name": "Python 3",
   "language": "python",
   "name": "python3"
  },
  "language_info": {
   "codemirror_mode": {
    "name": "ipython",
    "version": 3
   },
   "file_extension": ".py",
   "mimetype": "text/x-python",
   "name": "python",
   "nbconvert_exporter": "python",
   "pygments_lexer": "ipython3",
   "version": "3.5.2"
  }
 },
 "nbformat": 4,
 "nbformat_minor": 2
}
